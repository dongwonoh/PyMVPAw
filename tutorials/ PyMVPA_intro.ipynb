{
 "cells": [
  {
   "cell_type": "markdown",
   "metadata": {},
   "source": [
    "# PyMVPA Tutorial  \n",
    "\n",
    "Here is our intro from 9/25/17. Importantly, you all took some steps to get things running and loading proper, please take note of those somewhere you can keep track of. \n",
    "\n",
    "This tutorial goes over the bones of PyMVPA. Read about object oriented programming, classification, and RSA for refreshers on conceptual issues. Eg, Jim Haxby's 'mind-reading' paper, Kriegeskorte's 2008 RSA paper.\n",
    "\n",
    "First, we need to import PyMVPA. Remember this import command pulls in everything to be called immediately, as opposed to a typical import command where we'd have to reference the module each call. Read and learn the difference in types of import commands in python."
   ]
  },
  {
   "cell_type": "code",
   "execution_count": 5,
   "metadata": {
    "collapsed": true
   },
   "outputs": [],
   "source": [
    "from mvpa2.suite import *"
   ]
  },
  {
   "cell_type": "markdown",
   "metadata": {},
   "source": [
    "Remember, its normal for warnings to appear. Main concern is if an error is raised, which kills the import. \n",
    "\n",
    "To test the import, teach looking at documentation, and figure out how to load our data, let's look at the h5load function."
   ]
  },
  {
   "cell_type": "code",
   "execution_count": 2,
   "metadata": {},
   "outputs": [
    {
     "name": "stdout",
     "output_type": "stream",
     "text": [
      "Help on function h5load in module mvpa2.base.hdf5:\n",
      "\n",
      "h5load(filename, name=None)\n",
      "    Loads the content of an HDF5 file that has been stored by `h5save()`.\n",
      "    \n",
      "    This is a convenience wrapper around `hdf2obj()`. Please see its\n",
      "    documentation for more details.\n",
      "    \n",
      "    Parameters\n",
      "    ----------\n",
      "    filename : str\n",
      "      Name of the file to open and load its content.\n",
      "    name : str\n",
      "      Name of a specific object to load from the file.\n",
      "    \n",
      "    Returns\n",
      "    -------\n",
      "    instance\n",
      "      An object of whatever has been stored in the file.\n",
      "\n"
     ]
    }
   ],
   "source": [
    "help(h5load)"
   ]
  },
  {
   "cell_type": "markdown",
   "metadata": {},
   "source": [
    "This and other help/doc calls can make your life easier, so learn them, and how to navigate documentation online, email listserv threads, and places such as stack overflow for help.\n",
    "\n",
    "Now, remember, hdf5/h5 tools are great because you can save any python object as a file, then load it back. For instance, let's save a numpy array locally, then load it back in."
   ]
  },
  {
   "cell_type": "code",
   "execution_count": 3,
   "metadata": {},
   "outputs": [
    {
     "name": "stdout",
     "output_type": "stream",
     "text": [
      "[[1 2 3]\n",
      " [4 5 6]]\n"
     ]
    }
   ],
   "source": [
    "tom = np.array([[1,2,3],[4,5,6]])\n",
    "h5save('tom_array.hdf5',tom,compression=9)\n",
    "del(tom)\n",
    "tom = h5load('tom_array.hdf5')\n",
    "print(tom)"
   ]
  },
  {
   "cell_type": "markdown",
   "metadata": {},
   "source": [
    "**Super cool.** Now, let's load in our data. Change the path to yours!"
   ]
  },
  {
   "cell_type": "code",
   "execution_count": 3,
   "metadata": {
    "collapsed": true
   },
   "outputs": [],
   "source": [
    "data = h5load('./mufasa_locale/scc/final_Current/roi_r2_final/scc_Tzs_cut.hdf5')"
   ]
  },
  {
   "cell_type": "markdown",
   "metadata": {},
   "source": [
    "Remember, we are working with the data in this special format to accomodate PyMVPAw later. This is a dictionary, where each key is a subject number, and each value their pymvpa dataset. Let's look at our subjects, and move one to the side to analyze here:"
   ]
  },
  {
   "cell_type": "code",
   "execution_count": 5,
   "metadata": {},
   "outputs": [
    {
     "name": "stdout",
     "output_type": "stream",
     "text": [
      "['586', '587', '584', '592', '582', '583', '580', '590', '591', '581', '577', '579', '575', '589', '578', '576', '588', '585', '593', '574']\n",
      "<class 'mvpa2.datasets.base.Dataset'>\n"
     ]
    }
   ],
   "source": [
    "type(data) # checking object types is important and helps keep up with what you're looking at and if its proper\n",
    "print(data.keys()) # here's our subject IDs\n",
    "ds = data['586'].copy() # here we are using .copy() to make a hard separate copy in memory\n",
    "print(type(ds))"
   ]
  },
  {
   "cell_type": "markdown",
   "metadata": {},
   "source": [
    "Now let's get a good look at a PyMVPA dataset. Remember, there are dataset attributes, feature attributes, and sample attributes. Read about them in PyMVPA doc more. We can look at them like this:"
   ]
  },
  {
   "cell_type": "code",
   "execution_count": 6,
   "metadata": {},
   "outputs": [
    {
     "name": "stdout",
     "output_type": "stream",
     "text": [
      "<DatasetAttributesCollection: imgaffine,imghdr,imgtype,mapper,subjID,voxel_dim,voxel_eldim>\n",
      "<FeatureAttributesCollection: voxel_indices>\n",
      "<SampleAttributesCollection: chunks,targets,time_coords,time_indices>\n"
     ]
    }
   ],
   "source": [
    "# dataset attributes\n",
    "print ds.a\n",
    "# feature attributes\n",
    "print ds.fa\n",
    "# sample attributes\n",
    "print ds.sa"
   ]
  },
  {
   "cell_type": "markdown",
   "metadata": {},
   "source": [
    "That's the list of them in this dataset, but let's look at them up close. Remember, you can also tab out to get an idea of what attributes any object has in python, just type the object name, a period (eg, 'ds.') then tab out to see options. Every object has attributes and methods. Google it.\n",
    "\n",
    "*Important side note, remember there are two ways to reference certain sample attributes, with a brack index like a dictionary, or the attribute data directly in the normal period notation. The period notation, like below, returns the actual object used as attributes, whereas the brackets allow you to refer to them in a way that you can replace them.*"
   ]
  },
  {
   "cell_type": "code",
   "execution_count": 7,
   "metadata": {},
   "outputs": [
    {
     "name": "stdout",
     "output_type": "stream",
     "text": [
      "(72, 86474)\n",
      "999\n",
      "[[ 5 28 23]\n",
      " [ 5 29 21]\n",
      " [ 5 29 22]\n",
      " ..., \n",
      " [55 40 25]\n",
      " [55 41 24]\n",
      " [55 41 25]]\n",
      "['an' 'ap' 'bn' 'bp' 'an' 'ap' 'bn' 'bp' 'an' 'ap' 'bn' 'bp' 'an' 'ap' 'bn'\n",
      " 'bp' 'an' 'ap' 'bn' 'bp' 'an' 'ap' 'bn' 'bp' 'ac' 'bc' 'wc' 'hc' 'ac' 'bc'\n",
      " 'wc' 'hc' 'ac' 'bc' 'wc' 'hc' 'ac' 'bc' 'wc' 'hc' 'ac' 'bc' 'wc' 'hc' 'ac'\n",
      " 'bc' 'wc' 'hc' 'as' 'bs' 'cs' 'ss' 'as' 'bs' 'cs' 'ss' 'as' 'bs' 'cs' 'ss'\n",
      " 'as' 'bs' 'cs' 'ss' 'as' 'bs' 'cs' 'ss' 'as' 'bs' 'cs' 'ss'] [ 1.  1.  1.  1.  2.  2.  2.  2.  3.  3.  3.  3.  4.  4.  4.  4.  5.  5.\n",
      "  5.  5.  6.  6.  6.  6.  1.  1.  1.  1.  2.  2.  2.  2.  3.  3.  3.  3.\n",
      "  4.  4.  4.  4.  5.  5.  5.  5.  6.  6.  6.  6.  1.  1.  1.  1.  2.  2.\n",
      "  2.  2.  3.  3.  3.  3.  4.  4.  4.  4.  5.  5.  5.  5.  6.  6.  6.  6.]\n",
      "['ac' 'an' 'ap' 'as' 'bc' 'bn' 'bp' 'bs' 'cs' 'hc' 'ss' 'wc'] [ 1.  2.  3.  4.  5.  6.]\n",
      "[[ 1.56895947 -0.00515484 -0.45095265 ...,  0.03682332 -2.27489138\n",
      "  -0.70922989]\n",
      " [ 1.05142415  1.14230013  1.65540886 ...,  0.69169277 -0.16223796\n",
      "  -0.64775032]\n",
      " [ 0.5766384   0.60853904 -0.92059129 ...,  0.79704809  0.00769751\n",
      "  -0.1766022 ]\n",
      " ..., \n",
      " [ 0.04802357 -1.01954627 -1.58363283 ..., -1.40539515 -0.50858265\n",
      "  -0.74268609]\n",
      " [-0.70540339  0.56131148 -0.92980981 ..., -0.58964646 -0.0319623\n",
      "  -0.95533049]\n",
      " [ 0.79910499  1.10186982 -0.5927636  ..., -0.17896539 -0.51028609\n",
      "  -0.66443038]]\n"
     ]
    }
   ],
   "source": [
    "# to change attributes, you need to reference them with brackets as strings, period calls only return values\n",
    "\n",
    "print ds.shape # whats our dataset shape, how many samples (TRs/observations) and features (voxels)\n",
    "ds.a['subjID'] = '999' # let's see how you can change an attribute, eg, add a subject ID \n",
    "print ds.a.subjID\n",
    "print ds.fa.voxel_indices\n",
    "print ds.sa.targets,ds.sa.chunks\n",
    "# or\n",
    "print ds.UT,ds.UC # shortcuts to see unique targets and chunks\n",
    "print ds.samples # reference to actualy data object directly"
   ]
  },
  {
   "cell_type": "code",
   "execution_count": 8,
   "metadata": {},
   "outputs": [
    {
     "name": "stdout",
     "output_type": "stream",
     "text": [
      "Dataset: 72x86474@float32, <sa: chunks,targets,time_coords,time_indices>, <fa: voxel_indices>, <a: imgaffine,imghdr,imgtype,mapper,subjID,voxel_dim,voxel_eldim>\n",
      "stats: mean=-3.08919e-09 std=0.909753 var=0.827651 min=-3.29849 max=3.28968\n",
      "\n",
      "Counts of targets in each chunk:\n",
      "  chunks\\targets  ac  an  ap  as  bc  bn  bp  bs  cs  hc  ss  wc\n",
      "                 --- --- --- --- --- --- --- --- --- --- --- ---\n",
      "       1.0        1   1   1   1   1   1   1   1   1   1   1   1\n",
      "       2.0        1   1   1   1   1   1   1   1   1   1   1   1\n",
      "       3.0        1   1   1   1   1   1   1   1   1   1   1   1\n",
      "       4.0        1   1   1   1   1   1   1   1   1   1   1   1\n",
      "       5.0        1   1   1   1   1   1   1   1   1   1   1   1\n",
      "       6.0        1   1   1   1   1   1   1   1   1   1   1   1\n",
      "\n",
      "Summary for targets across chunks\n",
      "  targets mean std min max #chunks\n",
      "    ac      1   0   1   1     6\n",
      "    an      1   0   1   1     6\n",
      "    ap      1   0   1   1     6\n",
      "    as      1   0   1   1     6\n",
      "    bc      1   0   1   1     6\n",
      "    bn      1   0   1   1     6\n",
      "    bp      1   0   1   1     6\n",
      "    bs      1   0   1   1     6\n",
      "    cs      1   0   1   1     6\n",
      "    hc      1   0   1   1     6\n",
      "    ss      1   0   1   1     6\n",
      "    wc      1   0   1   1     6\n",
      "\n",
      "Summary for chunks across targets\n",
      "  chunks mean std min max #targets\n",
      "    1      1   0   1   1     12\n",
      "    2      1   0   1   1     12\n",
      "    3      1   0   1   1     12\n",
      "    4      1   0   1   1     12\n",
      "    5      1   0   1   1     12\n",
      "    6      1   0   1   1     12\n",
      "Sequence statistics for 72 entries from set ['ac', 'an', 'ap', 'as', 'bc', 'bn', 'bp', 'bs', 'cs', 'hc', 'ss', 'wc']\n",
      "Counter-balance table for orders up to 2:\n",
      "Targets/Order O1                        |  O2                        |\n",
      "     ac:       0 0 0 0 6 0 0 0 0 0 0 0  |   0 0 0 0 0 0 0 0 0 0 0 6  |\n",
      "     an:       0 0 6 0 0 0 0 0 0 0 0 0  |   0 0 0 0 0 6 0 0 0 0 0 0  |\n",
      "     ap:       0 0 0 0 0 6 0 0 0 0 0 0  |   0 0 0 0 0 0 6 0 0 0 0 0  |\n",
      "     as:       0 0 0 0 0 0 0 6 0 0 0 0  |   0 0 0 0 0 0 0 0 6 0 0 0  |\n",
      "     bc:       0 0 0 0 0 0 0 0 0 0 0 6  |   0 0 0 0 0 0 0 0 0 6 0 0  |\n",
      "     bn:       0 0 0 0 0 0 6 0 0 0 0 0  |   1 5 0 0 0 0 0 0 0 0 0 0  |\n",
      "     bp:       1 5 0 0 0 0 0 0 0 0 0 0  |   0 0 5 0 1 0 0 0 0 0 0 0  |\n",
      "     bs:       0 0 0 0 0 0 0 0 6 0 0 0  |   0 0 0 0 0 0 0 0 0 0 6 0  |\n",
      "     cs:       0 0 0 0 0 0 0 0 0 0 6 0  |   0 0 0 5 0 0 0 0 0 0 0 0  |\n",
      "     hc:       5 0 0 1 0 0 0 0 0 0 0 0  |   0 0 0 0 5 0 0 1 0 0 0 0  |\n",
      "     ss:       0 0 0 5 0 0 0 0 0 0 0 0  |   0 0 0 0 0 0 0 5 0 0 0 0  |\n",
      "     wc:       0 0 0 0 0 0 0 0 0 6 0 0  |   5 0 0 1 0 0 0 0 0 0 0 0  |\n",
      "Correlations: min=-0.65 max=0.92 mean=-0.014 sum(abs)=25\n"
     ]
    }
   ],
   "source": [
    "# OR\n",
    "print ds.summary()"
   ]
  },
  {
   "cell_type": "code",
   "execution_count": 11,
   "metadata": {},
   "outputs": [
    {
     "name": "stdout",
     "output_type": "stream",
     "text": [
      "[0] [ 1.] (1, 86474) ['an'] [[ 1.56895947 -0.00515484 -0.45095265 ...,  0.03682332 -2.27489138\n",
      "  -0.70922989]]\n",
      "[1] [ 1.] (1, 86474) ['ap'] [[ 1.05142415  1.14230013  1.65540886 ...,  0.69169277 -0.16223796\n",
      "  -0.64775032]]\n",
      "[2] [ 1.] (1, 86474) ['bn'] [[ 0.5766384   0.60853904 -0.92059129 ...,  0.79704809  0.00769751\n",
      "  -0.1766022 ]]\n",
      "[3] [ 1.] (1, 86474) ['bp'] [[-0.09207978 -0.76136887  0.21937369 ...,  0.59290373 -0.20790583\n",
      "  -0.37358156]]\n",
      "[4] [ 2.] (1, 86474) ['an'] [[ 0.22106083 -0.5769217  -0.47130743 ...,  1.63640285 -0.93795413\n",
      "   0.90210861]]\n",
      "[5] [ 2.] (1, 86474) ['ap'] [[-0.51109815 -1.1174134  -0.7583968  ...,  0.96687639 -0.12521978\n",
      "   1.05656707]]\n",
      "[6] [ 2.] (1, 86474) ['bn'] [[ 1.46095335 -1.11682534 -0.74013501 ...,  1.0684706  -0.6295175\n",
      "   1.34438181]]\n",
      "[7] [ 2.] (1, 86474) ['bp'] [[-0.24016844 -0.93364656 -0.77025861 ...,  0.70631087  0.25070012\n",
      "  -0.71538353]]\n",
      "[8] [ 3.] (1, 86474) ['an'] [[ 1.11752272  1.98873639  0.962524   ..., -1.16408062 -1.57001805\n",
      "  -2.03287005]]\n",
      "[9] [ 3.] (1, 86474) ['ap'] [[-0.36161739  0.41047731  0.45432797 ..., -0.84305143 -1.07845318\n",
      "  -0.62329948]]\n",
      "[10] [ 3.] (1, 86474) ['bn'] [[-1.26904476  0.66374463 -0.98951608 ...,  0.37759274 -0.53242505\n",
      "   0.67611122]]\n",
      "[11] [ 3.] (1, 86474) ['bp'] [[ 0.33785483 -1.2329849  -0.68711287 ..., -1.62828875 -1.563501\n",
      "  -1.45699966]]\n",
      "[12] [ 4.] (1, 86474) ['an'] [[ 0.88528383 -0.15399933  0.33032006 ..., -1.37616003  0.30003279\n",
      "  -0.95188028]]\n",
      "[13] [ 4.] (1, 86474) ['ap'] [[-0.28773412  0.16160499  0.04744161 ..., -0.65571785 -0.5152787\n",
      "   0.91653407]]\n",
      "[14] [ 4.] (1, 86474) ['bn'] [[-0.1668355  -0.38293478 -0.48114601 ..., -1.37606251 -0.84846836\n",
      "  -1.50382543]]\n",
      "[15] [ 4.] (1, 86474) ['bp'] [[ 0.74470776 -0.82960653  0.63337618 ..., -1.00415611 -0.18222916\n",
      "  -0.6269536 ]]\n",
      "[16] [ 5.] (1, 86474) ['an'] [[ 1.33029258 -0.08263115  0.45543662 ..., -0.40511185 -0.50507581\n",
      "  -0.3841382 ]]\n",
      "[17] [ 5.] (1, 86474) ['ap'] [[ 1.19241476  0.54163033  1.34188521 ...,  1.10822868  1.19743264\n",
      "   0.93059283]]\n",
      "[18] [ 5.] (1, 86474) ['bn'] [[ 1.48313212  1.12618577  1.83051646 ...,  1.11976624  0.91444701\n",
      "   1.27731931]]\n",
      "[19] [ 5.] (1, 86474) ['bp'] [[ 0.86077517 -0.12674382  0.46373707 ...,  0.51276487  0.51723891\n",
      "   0.78952396]]\n",
      "[20] [ 6.] (1, 86474) ['an'] [[ 0.94603038 -1.10545528  1.14263201 ..., -0.86633009 -0.39000624\n",
      "   0.47663927]]\n",
      "[21] [ 6.] (1, 86474) ['ap'] [[ 0.35728988  0.46542919  1.3606075  ..., -0.35242572 -0.49045813\n",
      "   0.33545816]]\n",
      "[22] [ 6.] (1, 86474) ['bn'] [[ 1.66196501 -0.55286545  1.63314819 ...,  0.2965084   0.28804314\n",
      "   1.09157836]]\n",
      "[23] [ 6.] (1, 86474) ['bp'] [[ 0.88085246 -0.83143687  0.8601439  ...,  0.34967998  1.05338788\n",
      "   1.33213997]]\n",
      "[24] [ 1.] (1, 86474) ['ac'] [[-0.64142352 -2.48115587  1.05324244 ..., -1.37494361  0.20243503\n",
      "   0.26052645]]\n",
      "[25] [ 1.] (1, 86474) ['bc'] [[-0.37122604  0.15620713  0.63002902 ...,  1.60572779  2.10578895\n",
      "   0.84361285]]\n",
      "[26] [ 1.] (1, 86474) ['wc'] [[-0.80333507 -0.28081369  0.00539072 ..., -1.33433306  0.63766068\n",
      "  -1.6208328 ]]\n",
      "[27] [ 1.] (1, 86474) ['hc'] [[-0.87392193  1.70625544 -1.15682077 ...,  0.01666276  0.5384441\n",
      "   1.60841691]]\n",
      "[28] [ 2.] (1, 86474) ['ac'] [[-0.08513249  0.17263153 -0.71172804 ...,  0.45738819  0.14868744\n",
      "  -0.84534311]]\n",
      "[29] [ 2.] (1, 86474) ['bc'] [[ 2.25896668 -1.59122741 -1.47893226 ...,  0.34642631  1.80880332\n",
      "   0.01896282]]\n",
      "[30] [ 2.] (1, 86474) ['wc'] [[ 0.65650201  0.27303407  0.30443278 ..., -0.92981738 -0.21528637\n",
      "  -1.13158858]]\n",
      "[31] [ 2.] (1, 86474) ['hc'] [[-0.15134031  0.62307858  0.73455298 ..., -0.26396793  2.06450891\n",
      "  -0.07619013]]\n",
      "[32] [ 3.] (1, 86474) ['ac'] [[ 0.34048778 -0.026676    0.13970838 ..., -0.58827722  0.75914073\n",
      "   0.17452204]]\n",
      "[33] [ 3.] (1, 86474) ['bc'] [[ 0.39681312 -0.1583977  -0.37312257 ...,  0.08710402  0.46103945\n",
      "  -0.12265284]]\n",
      "[34] [ 3.] (1, 86474) ['wc'] [[ 1.86099744  0.46898451  0.9873817  ..., -0.71150821 -0.63492262\n",
      "  -0.50565922]]\n",
      "[35] [ 3.] (1, 86474) ['hc'] [[ 0.24661015  1.21749079  1.37581527 ...,  1.31917131  1.62823248\n",
      "   0.27889478]]\n",
      "[36] [ 4.] (1, 86474) ['ac'] [[-0.36372867 -2.55918264 -0.58081043 ...,  1.36124432 -1.20191395\n",
      "  -0.81640542]]\n",
      "[37] [ 4.] (1, 86474) ['bc'] [[ 0.57079208  0.36804518  1.07356751 ...,  0.27291802  0.05985393\n",
      "   1.62173653]]\n",
      "[38] [ 4.] (1, 86474) ['wc'] [[ 2.49988818  1.49896836  2.10064721 ...,  0.31969976 -0.64431012\n",
      "  -0.15337227]]\n",
      "[39] [ 4.] (1, 86474) ['hc'] [[-0.06710877  0.0644979  -0.22242835 ..., -0.2952686   0.51893842\n",
      "  -0.39994347]]\n",
      "[40] [ 5.] (1, 86474) ['ac'] [[-0.31815419 -1.97949696 -0.99333042 ..., -0.33830431 -0.57487935\n",
      "   0.61471081]]\n",
      "[41] [ 5.] (1, 86474) ['bc'] [[-0.3717697  -0.08144502 -0.3058506  ..., -0.38288543 -0.92338479\n",
      "  -0.35832751]]\n",
      "[42] [ 5.] (1, 86474) ['wc'] [[ 0.60253942  1.71866751  0.24536063 ...,  0.42858526 -0.32951945\n",
      "   0.96150941]]\n",
      "[43] [ 5.] (1, 86474) ['hc'] [[-1.17493427 -1.12529194 -0.2870436  ..., -0.84212917  1.03465247\n",
      "  -1.60509574]]\n",
      "[44] [ 6.] (1, 86474) ['ac'] [[-1.01847565  1.14914465  0.28264073 ...,  2.56145406  2.55777645\n",
      "   1.3811456 ]]\n",
      "[45] [ 6.] (1, 86474) ['bc'] [[-0.91761982 -1.37580943 -1.11908245 ...,  0.54708803 -0.00852454\n",
      "   0.47814324]]\n",
      "[46] [ 6.] (1, 86474) ['wc'] [[-1.93050158  0.20109876 -0.42882034 ...,  0.92208689  0.03815659\n",
      "   0.22671308]]\n",
      "[47] [ 6.] (1, 86474) ['hc'] [[ 0.52561063 -0.47014028 -0.29203752 ..., -0.52970344 -1.82213187\n",
      "  -1.81278825]]\n",
      "[48] [ 1.] (1, 86474) ['as'] [[-2.11528087  0.12845778 -2.15664721 ...,  1.41407645 -0.08427614\n",
      "   1.8965652 ]]\n",
      "[49] [ 1.] (1, 86474) ['bs'] [[  8.68069887e-01  -5.57922244e-01   2.83908128e-04 ...,  -4.27912533e-01\n",
      "   -2.88910508e-01   4.13260460e-01]]\n",
      "[50] [ 1.] (1, 86474) ['cs'] [[ 0.94492871 -0.13365445  0.42579821 ..., -0.82795691  0.59393626\n",
      "  -0.86690432]]\n",
      "[51] [ 1.] (1, 86474) ['ss'] [[-0.11275375  0.4783102   0.69548512 ..., -1.1897887  -1.06774116\n",
      "  -0.62748122]]\n",
      "[52] [ 2.] (1, 86474) ['as'] [[-1.49258554  0.91754109 -0.00963082 ..., -0.9729889  -1.44159186\n",
      "  -1.43934977]]\n",
      "[53] [ 2.] (1, 86474) ['bs'] [[-0.68306494  1.50432646  2.31593156 ..., -0.49772263  0.0840252\n",
      "   0.97283763]]\n",
      "[54] [ 2.] (1, 86474) ['cs'] [[-0.39218751  0.43933725  0.55287236 ..., -0.5102421  -0.02893719\n",
      "   1.12430465]]\n",
      "[55] [ 2.] (1, 86474) ['ss'] [[-1.04190624  1.40608561  1.03259921 ..., -2.00713611 -0.9782185\n",
      "  -1.21130705]]\n",
      "[56] [ 3.] (1, 86474) ['as'] [[-2.23466325 -1.04361296 -2.29194212 ...,  1.8134948   0.88633466\n",
      "   1.33088303]]\n",
      "[57] [ 3.] (1, 86474) ['bs'] [[-0.27904618 -0.31459773  0.82984596 ...,  1.09531224  0.33037451\n",
      "   1.50842202]]\n",
      "[58] [ 3.] (1, 86474) ['cs'] [[ 0.00717536 -0.26104605  0.22295158 ...,  0.22681947  0.80296969\n",
      "   0.09059767]]\n",
      "[59] [ 3.] (1, 86474) ['ss'] [[-0.16308987 -1.71211851 -0.6308611  ...,  0.01571166  0.5112288\n",
      "   0.68205041]]\n",
      "[60] [ 4.] (1, 86474) ['as'] [[-0.68166232 -0.49057591 -1.58404136 ...,  0.67926151  2.49283338\n",
      "   0.88425481]]\n",
      "[61] [ 4.] (1, 86474) ['bs'] [[-1.10198677  0.61640096  0.0137865  ...,  0.94170356  0.21655867\n",
      "  -0.16600223]]\n",
      "[62] [ 4.] (1, 86474) ['cs'] [[-0.7964403   1.07941663  0.31165776 ...,  1.72124827  1.01518989\n",
      "   1.73696434]]\n",
      "[63] [ 4.] (1, 86474) ['ss'] [[-1.23517513  0.62736499 -1.6423707  ..., -0.58871073 -1.21120703\n",
      "  -0.54110622]]\n",
      "[64] [ 5.] (1, 86474) ['as'] [[-0.94787455 -0.04008678 -1.05836356 ..., -0.60024339  1.29900169\n",
      "  -1.92754948]]\n",
      "[65] [ 5.] (1, 86474) ['bs'] [[-0.23747653  0.70069909  0.83365262 ...,  1.44353545  0.43027276\n",
      "   0.53174859]]\n",
      "[66] [ 5.] (1, 86474) ['cs'] [[-1.16263175  0.55898964 -0.9485296  ...,  0.28241128 -1.91100061\n",
      "   0.02162785]]\n",
      "[67] [ 5.] (1, 86474) ['ss'] [[-1.25631273 -1.21047676 -1.57747126 ..., -2.32661772 -1.1491853\n",
      "  -0.85192174]]\n",
      "[68] [ 6.] (1, 86474) ['as'] [[-0.64687693  1.87639976 -0.33302614 ..., -0.75435132 -0.17541198\n",
      "  -1.14658237]]\n",
      "[69] [ 6.] (1, 86474) ['bs'] [[ 0.04802357 -1.01954627 -1.58363283 ..., -1.40539515 -0.50858265\n",
      "  -0.74268609]]\n",
      "[70] [ 6.] (1, 86474) ['cs'] [[-0.70540339  0.56131148 -0.92980981 ..., -0.58964646 -0.0319623\n",
      "  -0.95533049]]\n",
      "[71] [ 6.] (1, 86474) ['ss'] [[ 0.79910499  1.10186982 -0.5927636  ..., -0.17896539 -0.51028609\n",
      "  -0.66443038]]\n"
     ]
    }
   ],
   "source": [
    "# and to see each sample up close....\n",
    "for i in ds:\n",
    "    print i.sa.time_indices, i.sa.chunks, i.shape,i.sa.targets,i.samples"
   ]
  },
  {
   "cell_type": "markdown",
   "metadata": {},
   "source": [
    "# Analyses\n",
    "\n",
    "First, let's whip this data into shape. We want to just look at stereotype patterns. \n",
    "\n",
    "\n",
    "- an ap bn bp | asian black pos neg\n",
    "- ac bc | asian black category\n",
    "- as bs | asian black face\n",
    "\n",
    "So let's cut out anything we don't need. To do so, we'll steal from PyMVPAw quickly..."
   ]
  },
  {
   "cell_type": "code",
   "execution_count": 14,
   "metadata": {},
   "outputs": [
    {
     "name": "stdout",
     "output_type": "stream",
     "text": [
      "['an' 'ap' 'bn' 'bp'] (24, 86474)\n"
     ]
    }
   ],
   "source": [
    "for om in ['ac','as', 'bc', 'bs', 'cs', 'hc', 'ss', 'wc']:\n",
    "    ds = ds[ds.sa.targets != om]\n",
    "\n",
    "print ds.UT,ds.shape # the resulting dataset is now trimmed"
   ]
  },
  {
   "cell_type": "markdown",
   "metadata": {},
   "source": [
    "# RSA\n",
    "\n",
    "First, let's perform RSA. Here we correlate a theoretical model where valence is what drives pattern similarity. Ie, 'an' and 'bn' are more similar to one another than 'ap' and 'bp'. We correlate this dissimilarity matrix with the representational similarity matrix (wholebrain neural pattern similarity between these conditions). Read up Krieg 2008 for more detail."
   ]
  },
  {
   "cell_type": "code",
   "execution_count": 15,
   "metadata": {},
   "outputs": [
    {
     "name": "stdout",
     "output_type": "stream",
     "text": [
      "(4, 86474) ['an' 'ap' 'bn' 'bp']\n",
      "[[ 0.          0.71989384  0.70512579  0.67112384]\n",
      " [ 0.71989384  0.          0.64340398  0.60258555]\n",
      " [ 0.70512579  0.64340398  0.          0.60428371]\n",
      " [ 0.67112384  0.60258555  0.60428371  0.        ]]\n",
      "[[ 0.  1.  0.  1.]\n",
      " [ 1.  0.  1.  0.]\n",
      " [ 0.  1.  0.  1.]\n",
      " [ 1.  0.  1.  0.]]\n",
      "[[ 1.          0.06037519]\n",
      " [ 0.06037519  1.        ]]\n"
     ]
    }
   ],
   "source": [
    "ds_mgs = mean_group_sample(['targets'])(ds) # calculate mean sample (neural pattern) per target\n",
    "print ds_mgs.shape,ds_mgs.UT # hows the data look now?\n",
    "\n",
    "# make a theoretical model, this is in the order data is in the dataset! look at data targets/UT for an idea. \n",
    "# Usually alphabetical after mean group sampling\n",
    "valDM = squareform ( np.array([[0,1,0,1],  \n",
    "                  [1,0,1,0],\n",
    "                  [0,1,0,1],\n",
    "                  [1,0,1,0]]) )\n",
    "RDM = pdist(ds_mgs,metric='correlation') # get similarity of neural patterns in correlation distance\n",
    "print squareform(RDM) #what do these DMs look like?\n",
    "print squareform(valDM)\n",
    "\n",
    "print np.corrcoef(RDM,valDM) #correlate them!"
   ]
  },
  {
   "cell_type": "markdown",
   "metadata": {},
   "source": [
    "Wowzer. Pearson *r* = .06.\n",
    "\n",
    "# Classification\n",
    "\n",
    "Next guy. Try to remember similarites and differences between classification and RSA, pros and cons, etc. Read up.\n",
    "\n",
    "We will here try to see if we can classify above chance these four stereotype conditions. We'll use a linear SVM, and leave-one-out cross-validation scheme. Google those too.\n",
    "\n",
    "First, we remove invariant features that might choke up some classifiers sometimes."
   ]
  },
  {
   "cell_type": "code",
   "execution_count": 17,
   "metadata": {},
   "outputs": [
    {
     "name": "stdout",
     "output_type": "stream",
     "text": [
      "0.828295210121\n"
     ]
    }
   ],
   "source": [
    "remapper = ds.copy()\n",
    "inv_mask = ds.samples.std(axis=0)>0\n",
    "sfs = StaticFeatureSelection(slicearg=inv_mask)\n",
    "sfs.train(remapper)\n",
    "data_m = remove_invariant_features(ds)\n",
    "print np.mean(inv_mask) # % of data kept / "
   ]
  },
  {
   "cell_type": "markdown",
   "metadata": {},
   "source": [
    "Now for the meat. Here we create objects holding all our plans, linear SVM, our CV scheme/partitioner, and a little magic to get accuracy back instead of classifier error. Then, we run the analysis!"
   ]
  },
  {
   "cell_type": "code",
   "execution_count": 18,
   "metadata": {
    "collapsed": true
   },
   "outputs": [],
   "source": [
    "cv = CrossValidation(LinearCSVMC(), NFoldPartitioner(), \n",
    "                     enable_ca=['stats'], \n",
    "                     errorfx=lambda p, t: np.mean(p == t))\n",
    "\n",
    "res = cv(data_m)"
   ]
  },
  {
   "cell_type": "code",
   "execution_count": 20,
   "metadata": {},
   "outputs": [
    {
     "name": "stdout",
     "output_type": "stream",
     "text": [
      "Dataset: 6x1@float64, <sa: cvfolds> stats: mean=0.333333 std=0.186339 var=0.0347222 min=0 max=0.5\n",
      "\n",
      "0.0833333333333\n"
     ]
    }
   ],
   "source": [
    "print res.summary()\n",
    "print np.mean(res.samples) - (1.0 / len(data_m.UT)) # % above chance accuracy"
   ]
  },
  {
   "cell_type": "markdown",
   "metadata": {},
   "source": [
    "8% of chance, woooooooah. How about, like, locally distributed across the brain dome?"
   ]
  },
  {
   "cell_type": "markdown",
   "metadata": {},
   "source": [
    "# Searchlights\n",
    "\n",
    "Searchlights. Check out Kriegeskorte (circa 2005 - 2009?). This takes forever-ever, but, here's the code."
   ]
  },
  {
   "cell_type": "code",
   "execution_count": 4,
   "metadata": {},
   "outputs": [
    {
     "name": "stdout",
     "output_type": "stream",
     "text": [
      "[SLC] DBG:                         Starting computing block for 71626 elements\n",
      "[SLC] DBG:                         +0:00:03 _______[0%]_______ -4:37:33  ROI 14 (14/71626), 55 features"
     ]
    },
    {
     "ename": "KeyboardInterrupt",
     "evalue": "",
     "output_type": "error",
     "traceback": [
      "\u001b[0;31m---------------------------------------------------------------------------\u001b[0m",
      "\u001b[0;31mKeyboardInterrupt\u001b[0m                         Traceback (most recent call last)",
      "\u001b[0;32m<ipython-input-4-2925c95eed80>\u001b[0m in \u001b[0;36m<module>\u001b[0;34m()\u001b[0m\n\u001b[1;32m     12\u001b[0m \u001b[0;34m\u001b[0m\u001b[0m\n\u001b[1;32m     13\u001b[0m \u001b[0msl\u001b[0m \u001b[0;34m=\u001b[0m \u001b[0msphere_searchlight\u001b[0m\u001b[0;34m(\u001b[0m\u001b[0mcv\u001b[0m\u001b[0;34m,\u001b[0m \u001b[0mradius\u001b[0m\u001b[0;34m=\u001b[0m\u001b[0;36m3\u001b[0m\u001b[0;34m,\u001b[0m \u001b[0mpostproc\u001b[0m\u001b[0;34m=\u001b[0m\u001b[0mmean_sample\u001b[0m\u001b[0;34m(\u001b[0m\u001b[0;34m)\u001b[0m\u001b[0;34m)\u001b[0m\u001b[0;34m\u001b[0m\u001b[0m\n\u001b[0;32m---> 14\u001b[0;31m \u001b[0mslr\u001b[0m \u001b[0;34m=\u001b[0m \u001b[0msl\u001b[0m\u001b[0;34m(\u001b[0m\u001b[0mds\u001b[0m\u001b[0;34m)\u001b[0m\u001b[0;34m\u001b[0m\u001b[0m\n\u001b[0m",
      "\u001b[0;32m/Users/rystoli/anaconda/lib/python2.7/site-packages/mvpa2/base/learner.pyc\u001b[0m in \u001b[0;36m__call__\u001b[0;34m(self, ds)\u001b[0m\n\u001b[1;32m    257\u001b[0m                                    \u001b[0;34m\"used and auto training is disabled.\"\u001b[0m\u001b[0;34m\u001b[0m\u001b[0m\n\u001b[1;32m    258\u001b[0m                                    % str(self))\n\u001b[0;32m--> 259\u001b[0;31m         \u001b[0;32mreturn\u001b[0m \u001b[0msuper\u001b[0m\u001b[0;34m(\u001b[0m\u001b[0mLearner\u001b[0m\u001b[0;34m,\u001b[0m \u001b[0mself\u001b[0m\u001b[0;34m)\u001b[0m\u001b[0;34m.\u001b[0m\u001b[0m__call__\u001b[0m\u001b[0;34m(\u001b[0m\u001b[0mds\u001b[0m\u001b[0;34m)\u001b[0m\u001b[0;34m\u001b[0m\u001b[0m\n\u001b[0m\u001b[1;32m    260\u001b[0m \u001b[0;34m\u001b[0m\u001b[0m\n\u001b[1;32m    261\u001b[0m \u001b[0;34m\u001b[0m\u001b[0m\n",
      "\u001b[0;32m/Users/rystoli/anaconda/lib/python2.7/site-packages/mvpa2/base/node.pyc\u001b[0m in \u001b[0;36m__call__\u001b[0;34m(self, ds)\u001b[0m\n\u001b[1;32m    119\u001b[0m \u001b[0;34m\u001b[0m\u001b[0m\n\u001b[1;32m    120\u001b[0m         \u001b[0mself\u001b[0m\u001b[0;34m.\u001b[0m\u001b[0m_precall\u001b[0m\u001b[0;34m(\u001b[0m\u001b[0mds\u001b[0m\u001b[0;34m)\u001b[0m\u001b[0;34m\u001b[0m\u001b[0m\n\u001b[0;32m--> 121\u001b[0;31m         \u001b[0mresult\u001b[0m \u001b[0;34m=\u001b[0m \u001b[0mself\u001b[0m\u001b[0;34m.\u001b[0m\u001b[0m_call\u001b[0m\u001b[0;34m(\u001b[0m\u001b[0mds\u001b[0m\u001b[0;34m)\u001b[0m\u001b[0;34m\u001b[0m\u001b[0m\n\u001b[0m\u001b[1;32m    122\u001b[0m         \u001b[0mresult\u001b[0m \u001b[0;34m=\u001b[0m \u001b[0mself\u001b[0m\u001b[0;34m.\u001b[0m\u001b[0m_postcall\u001b[0m\u001b[0;34m(\u001b[0m\u001b[0mds\u001b[0m\u001b[0;34m,\u001b[0m \u001b[0mresult\u001b[0m\u001b[0;34m)\u001b[0m\u001b[0;34m\u001b[0m\u001b[0m\n\u001b[1;32m    123\u001b[0m \u001b[0;34m\u001b[0m\u001b[0m\n",
      "\u001b[0;32m/Users/rystoli/anaconda/lib/python2.7/site-packages/mvpa2/measures/searchlight.pyc\u001b[0m in \u001b[0;36m_call\u001b[0;34m(self, dataset)\u001b[0m\n\u001b[1;32m    141\u001b[0m \u001b[0;34m\u001b[0m\u001b[0m\n\u001b[1;32m    142\u001b[0m         \u001b[0;31m# pass to subclass\u001b[0m\u001b[0;34m\u001b[0m\u001b[0;34m\u001b[0m\u001b[0m\n\u001b[0;32m--> 143\u001b[0;31m         \u001b[0mresults\u001b[0m \u001b[0;34m=\u001b[0m \u001b[0mself\u001b[0m\u001b[0;34m.\u001b[0m\u001b[0m_sl_call\u001b[0m\u001b[0;34m(\u001b[0m\u001b[0mdataset\u001b[0m\u001b[0;34m,\u001b[0m \u001b[0mroi_ids\u001b[0m\u001b[0;34m,\u001b[0m \u001b[0mnproc\u001b[0m\u001b[0;34m)\u001b[0m\u001b[0;34m\u001b[0m\u001b[0m\n\u001b[0m\u001b[1;32m    144\u001b[0m \u001b[0;34m\u001b[0m\u001b[0m\n\u001b[1;32m    145\u001b[0m         \u001b[0;32mif\u001b[0m \u001b[0;34m'mapper'\u001b[0m \u001b[0;32min\u001b[0m \u001b[0mdataset\u001b[0m\u001b[0;34m.\u001b[0m\u001b[0ma\u001b[0m\u001b[0;34m:\u001b[0m\u001b[0;34m\u001b[0m\u001b[0m\n",
      "\u001b[0;32m/Users/rystoli/anaconda/lib/python2.7/site-packages/mvpa2/measures/searchlight.pyc\u001b[0m in \u001b[0;36m_sl_call\u001b[0;34m(self, dataset, roi_ids, nproc)\u001b[0m\n\u001b[1;32m    360\u001b[0m             \u001b[0;31m# otherwise collect the results in an 1-item list\u001b[0m\u001b[0;34m\u001b[0m\u001b[0;34m\u001b[0m\u001b[0m\n\u001b[1;32m    361\u001b[0m             p_results = [\n\u001b[0;32m--> 362\u001b[0;31m                     self._proc_block(roi_ids, dataset, self.__datameasure)]\n\u001b[0m\u001b[1;32m    363\u001b[0m \u001b[0;34m\u001b[0m\u001b[0m\n\u001b[1;32m    364\u001b[0m         \u001b[0;31m# Finally collect and possibly process results\u001b[0m\u001b[0;34m\u001b[0m\u001b[0;34m\u001b[0m\u001b[0m\n",
      "\u001b[0;32m/Users/rystoli/anaconda/lib/python2.7/site-packages/mvpa2/measures/searchlight.pyc\u001b[0m in \u001b[0;36m_proc_block\u001b[0;34m(self, block, ds, measure, seed, iblock)\u001b[0m\n\u001b[1;32m    456\u001b[0m \u001b[0;34m\u001b[0m\u001b[0m\n\u001b[1;32m    457\u001b[0m             \u001b[0;31m# compute the datameasure and store in results\u001b[0m\u001b[0;34m\u001b[0m\u001b[0;34m\u001b[0m\u001b[0m\n\u001b[0;32m--> 458\u001b[0;31m             \u001b[0mres\u001b[0m \u001b[0;34m=\u001b[0m \u001b[0mmeasure\u001b[0m\u001b[0;34m(\u001b[0m\u001b[0mroi\u001b[0m\u001b[0;34m)\u001b[0m\u001b[0;34m\u001b[0m\u001b[0m\n\u001b[0m\u001b[1;32m    459\u001b[0m \u001b[0;34m\u001b[0m\u001b[0m\n\u001b[1;32m    460\u001b[0m             \u001b[0;32mif\u001b[0m \u001b[0massure_dataset\u001b[0m \u001b[0;32mand\u001b[0m \u001b[0;32mnot\u001b[0m \u001b[0mis_datasetlike\u001b[0m\u001b[0;34m(\u001b[0m\u001b[0mres\u001b[0m\u001b[0;34m)\u001b[0m\u001b[0;34m:\u001b[0m\u001b[0;34m\u001b[0m\u001b[0m\n",
      "\u001b[0;32m/Users/rystoli/anaconda/lib/python2.7/site-packages/mvpa2/base/learner.pyc\u001b[0m in \u001b[0;36m__call__\u001b[0;34m(self, ds)\u001b[0m\n\u001b[1;32m    257\u001b[0m                                    \u001b[0;34m\"used and auto training is disabled.\"\u001b[0m\u001b[0;34m\u001b[0m\u001b[0m\n\u001b[1;32m    258\u001b[0m                                    % str(self))\n\u001b[0;32m--> 259\u001b[0;31m         \u001b[0;32mreturn\u001b[0m \u001b[0msuper\u001b[0m\u001b[0;34m(\u001b[0m\u001b[0mLearner\u001b[0m\u001b[0;34m,\u001b[0m \u001b[0mself\u001b[0m\u001b[0;34m)\u001b[0m\u001b[0;34m.\u001b[0m\u001b[0m__call__\u001b[0m\u001b[0;34m(\u001b[0m\u001b[0mds\u001b[0m\u001b[0;34m)\u001b[0m\u001b[0;34m\u001b[0m\u001b[0m\n\u001b[0m\u001b[1;32m    260\u001b[0m \u001b[0;34m\u001b[0m\u001b[0m\n\u001b[1;32m    261\u001b[0m \u001b[0;34m\u001b[0m\u001b[0m\n",
      "\u001b[0;32m/Users/rystoli/anaconda/lib/python2.7/site-packages/mvpa2/base/node.pyc\u001b[0m in \u001b[0;36m__call__\u001b[0;34m(self, ds)\u001b[0m\n\u001b[1;32m    119\u001b[0m \u001b[0;34m\u001b[0m\u001b[0m\n\u001b[1;32m    120\u001b[0m         \u001b[0mself\u001b[0m\u001b[0;34m.\u001b[0m\u001b[0m_precall\u001b[0m\u001b[0;34m(\u001b[0m\u001b[0mds\u001b[0m\u001b[0;34m)\u001b[0m\u001b[0;34m\u001b[0m\u001b[0m\n\u001b[0;32m--> 121\u001b[0;31m         \u001b[0mresult\u001b[0m \u001b[0;34m=\u001b[0m \u001b[0mself\u001b[0m\u001b[0;34m.\u001b[0m\u001b[0m_call\u001b[0m\u001b[0;34m(\u001b[0m\u001b[0mds\u001b[0m\u001b[0;34m)\u001b[0m\u001b[0;34m\u001b[0m\u001b[0m\n\u001b[0m\u001b[1;32m    122\u001b[0m         \u001b[0mresult\u001b[0m \u001b[0;34m=\u001b[0m \u001b[0mself\u001b[0m\u001b[0;34m.\u001b[0m\u001b[0m_postcall\u001b[0m\u001b[0;34m(\u001b[0m\u001b[0mds\u001b[0m\u001b[0;34m,\u001b[0m \u001b[0mresult\u001b[0m\u001b[0;34m)\u001b[0m\u001b[0;34m\u001b[0m\u001b[0m\n\u001b[1;32m    123\u001b[0m \u001b[0;34m\u001b[0m\u001b[0m\n",
      "\u001b[0;32m/Users/rystoli/anaconda/lib/python2.7/site-packages/mvpa2/measures/base.pyc\u001b[0m in \u001b[0;36m_call\u001b[0;34m(self, ds)\u001b[0m\n\u001b[1;32m    495\u001b[0m         \u001b[0;31m# always untrain to wipe out previous stats\u001b[0m\u001b[0;34m\u001b[0m\u001b[0;34m\u001b[0m\u001b[0m\n\u001b[1;32m    496\u001b[0m         \u001b[0mself\u001b[0m\u001b[0;34m.\u001b[0m\u001b[0muntrain\u001b[0m\u001b[0;34m(\u001b[0m\u001b[0;34m)\u001b[0m\u001b[0;34m\u001b[0m\u001b[0m\n\u001b[0;32m--> 497\u001b[0;31m         \u001b[0;32mreturn\u001b[0m \u001b[0msuper\u001b[0m\u001b[0;34m(\u001b[0m\u001b[0mCrossValidation\u001b[0m\u001b[0;34m,\u001b[0m \u001b[0mself\u001b[0m\u001b[0;34m)\u001b[0m\u001b[0;34m.\u001b[0m\u001b[0m_call\u001b[0m\u001b[0;34m(\u001b[0m\u001b[0mds\u001b[0m\u001b[0;34m)\u001b[0m\u001b[0;34m\u001b[0m\u001b[0m\n\u001b[0m\u001b[1;32m    498\u001b[0m \u001b[0;34m\u001b[0m\u001b[0m\n\u001b[1;32m    499\u001b[0m \u001b[0;34m\u001b[0m\u001b[0m\n",
      "\u001b[0;32m/Users/rystoli/anaconda/lib/python2.7/site-packages/mvpa2/measures/base.pyc\u001b[0m in \u001b[0;36m_call\u001b[0;34m(self, ds)\u001b[0m\n\u001b[1;32m    316\u001b[0m         \u001b[0;31m# run the node an all generated datasets\u001b[0m\u001b[0;34m\u001b[0m\u001b[0;34m\u001b[0m\u001b[0m\n\u001b[1;32m    317\u001b[0m         \u001b[0mresults\u001b[0m \u001b[0;34m=\u001b[0m \u001b[0;34m[\u001b[0m\u001b[0;34m]\u001b[0m\u001b[0;34m\u001b[0m\u001b[0m\n\u001b[0;32m--> 318\u001b[0;31m         \u001b[0;32mfor\u001b[0m \u001b[0mi\u001b[0m\u001b[0;34m,\u001b[0m \u001b[0msds\u001b[0m \u001b[0;32min\u001b[0m \u001b[0menumerate\u001b[0m\u001b[0;34m(\u001b[0m\u001b[0mgenerator\u001b[0m\u001b[0;34m.\u001b[0m\u001b[0mgenerate\u001b[0m\u001b[0;34m(\u001b[0m\u001b[0mds\u001b[0m\u001b[0;34m)\u001b[0m\u001b[0;34m)\u001b[0m\u001b[0;34m:\u001b[0m\u001b[0;34m\u001b[0m\u001b[0m\n\u001b[0m\u001b[1;32m    319\u001b[0m             \u001b[0;32mif\u001b[0m \u001b[0m__debug__\u001b[0m\u001b[0;34m:\u001b[0m\u001b[0;34m\u001b[0m\u001b[0m\n\u001b[1;32m    320\u001b[0m                 debug('REPM', \"%d-th iteration of %s on %s\",\n",
      "\u001b[0;32m/Users/rystoli/anaconda/lib/python2.7/site-packages/mvpa2/generators/partition.pyc\u001b[0m in \u001b[0;36mgenerate\u001b[0;34m(self, ds)\u001b[0m\n\u001b[1;32m    117\u001b[0m             \u001b[0mpattr\u001b[0m \u001b[0;34m=\u001b[0m \u001b[0mself\u001b[0m\u001b[0;34m.\u001b[0m\u001b[0mget_partitions_attr\u001b[0m\u001b[0;34m(\u001b[0m\u001b[0mds\u001b[0m\u001b[0;34m,\u001b[0m \u001b[0mparts\u001b[0m\u001b[0;34m)\u001b[0m\u001b[0;34m\u001b[0m\u001b[0m\n\u001b[1;32m    118\u001b[0m             \u001b[0;31m# shallow copy of the dataset\u001b[0m\u001b[0;34m\u001b[0m\u001b[0;34m\u001b[0m\u001b[0m\n\u001b[0;32m--> 119\u001b[0;31m             \u001b[0mpds\u001b[0m \u001b[0;34m=\u001b[0m \u001b[0mds\u001b[0m\u001b[0;34m.\u001b[0m\u001b[0mcopy\u001b[0m\u001b[0;34m(\u001b[0m\u001b[0mdeep\u001b[0m\u001b[0;34m=\u001b[0m\u001b[0mFalse\u001b[0m\u001b[0;34m)\u001b[0m\u001b[0;34m\u001b[0m\u001b[0m\n\u001b[0m\u001b[1;32m    120\u001b[0m             \u001b[0mpds\u001b[0m\u001b[0;34m.\u001b[0m\u001b[0msa\u001b[0m\u001b[0;34m[\u001b[0m\u001b[0mself\u001b[0m\u001b[0;34m.\u001b[0m\u001b[0mget_space\u001b[0m\u001b[0;34m(\u001b[0m\u001b[0;34m)\u001b[0m\u001b[0;34m]\u001b[0m \u001b[0;34m=\u001b[0m \u001b[0mpattr\u001b[0m\u001b[0;34m\u001b[0m\u001b[0m\n\u001b[1;32m    121\u001b[0m             \u001b[0mpds\u001b[0m\u001b[0;34m.\u001b[0m\u001b[0ma\u001b[0m\u001b[0;34m[\u001b[0m\u001b[0mself\u001b[0m\u001b[0;34m.\u001b[0m\u001b[0mget_space\u001b[0m\u001b[0;34m(\u001b[0m\u001b[0;34m)\u001b[0m \u001b[0;34m+\u001b[0m \u001b[0;34m\"_set\"\u001b[0m\u001b[0;34m]\u001b[0m \u001b[0;34m=\u001b[0m \u001b[0miparts\u001b[0m\u001b[0;34m\u001b[0m\u001b[0m\n",
      "\u001b[0;32m/Users/rystoli/anaconda/lib/python2.7/site-packages/mvpa2/base/dataset.pyc\u001b[0m in \u001b[0;36mcopy\u001b[0;34m(self, deep, sa, fa, a, memo)\u001b[0m\n\u001b[1;32m    375\u001b[0m                              \u001b[0msa\u001b[0m\u001b[0;34m=\u001b[0m\u001b[0mself\u001b[0m\u001b[0;34m.\u001b[0m\u001b[0msa\u001b[0m\u001b[0;34m.\u001b[0m\u001b[0mcopy\u001b[0m\u001b[0;34m(\u001b[0m\u001b[0ma\u001b[0m\u001b[0;34m=\u001b[0m\u001b[0msa\u001b[0m\u001b[0;34m,\u001b[0m \u001b[0mdeep\u001b[0m\u001b[0;34m=\u001b[0m\u001b[0mdeep\u001b[0m\u001b[0;34m,\u001b[0m \u001b[0mmemo\u001b[0m\u001b[0;34m=\u001b[0m\u001b[0mmemo\u001b[0m\u001b[0;34m)\u001b[0m\u001b[0;34m,\u001b[0m\u001b[0;34m\u001b[0m\u001b[0m\n\u001b[1;32m    376\u001b[0m                              \u001b[0mfa\u001b[0m\u001b[0;34m=\u001b[0m\u001b[0mself\u001b[0m\u001b[0;34m.\u001b[0m\u001b[0mfa\u001b[0m\u001b[0;34m.\u001b[0m\u001b[0mcopy\u001b[0m\u001b[0;34m(\u001b[0m\u001b[0ma\u001b[0m\u001b[0;34m=\u001b[0m\u001b[0mfa\u001b[0m\u001b[0;34m,\u001b[0m \u001b[0mdeep\u001b[0m\u001b[0;34m=\u001b[0m\u001b[0mdeep\u001b[0m\u001b[0;34m,\u001b[0m \u001b[0mmemo\u001b[0m\u001b[0;34m=\u001b[0m\u001b[0mmemo\u001b[0m\u001b[0;34m)\u001b[0m\u001b[0;34m,\u001b[0m\u001b[0;34m\u001b[0m\u001b[0m\n\u001b[0;32m--> 377\u001b[0;31m                              a=self.a.copy(a=a, deep=deep, memo=memo))\n\u001b[0m\u001b[1;32m    378\u001b[0m         \u001b[0;32mif\u001b[0m \u001b[0m__debug__\u001b[0m\u001b[0;34m:\u001b[0m\u001b[0;34m\u001b[0m\u001b[0m\n\u001b[1;32m    379\u001b[0m             debug('DS_', \"Return dataset copy %s of source %s\"\n",
      "\u001b[0;32m/Users/rystoli/anaconda/lib/python2.7/site-packages/mvpa2/base/collections.pyc\u001b[0m in \u001b[0;36mcopy\u001b[0;34m(self, deep, a, memo)\u001b[0m\n\u001b[1;32m    368\u001b[0m         \u001b[0;31m#     desirable here?\u001b[0m\u001b[0;34m\u001b[0m\u001b[0;34m\u001b[0m\u001b[0m\n\u001b[1;32m    369\u001b[0m         anew.update(aorig, copyvalues=deep and 'deep' or 'shallow',\n\u001b[0;32m--> 370\u001b[0;31m                     memo=memo)\n\u001b[0m\u001b[1;32m    371\u001b[0m \u001b[0;34m\u001b[0m\u001b[0m\n\u001b[1;32m    372\u001b[0m         \u001b[0;32mif\u001b[0m \u001b[0m__debug__\u001b[0m \u001b[0;32mand\u001b[0m \u001b[0m__mvpadebug__\u001b[0m \u001b[0;32mand\u001b[0m \u001b[0;34m'COL'\u001b[0m \u001b[0;32min\u001b[0m \u001b[0mdebug\u001b[0m\u001b[0;34m.\u001b[0m\u001b[0mactive\u001b[0m\u001b[0;34m:\u001b[0m\u001b[0;34m\u001b[0m\u001b[0m\n",
      "\u001b[0;32m/Users/rystoli/anaconda/lib/python2.7/site-packages/mvpa2/base/collections.pyc\u001b[0m in \u001b[0;36mupdate\u001b[0;34m(self, source, copyvalues, memo)\u001b[0m\n\u001b[1;32m    473\u001b[0m                     \u001b[0mself\u001b[0m\u001b[0;34m[\u001b[0m\u001b[0mk\u001b[0m\u001b[0;34m]\u001b[0m \u001b[0;34m=\u001b[0m \u001b[0mv\u001b[0m\u001b[0;34m\u001b[0m\u001b[0m\n\u001b[1;32m    474\u001b[0m                 \u001b[0;32melif\u001b[0m \u001b[0mcopyvalues\u001b[0m \u001b[0;34m==\u001b[0m \u001b[0;34m'shallow'\u001b[0m\u001b[0;34m:\u001b[0m\u001b[0;34m\u001b[0m\u001b[0m\n\u001b[0;32m--> 475\u001b[0;31m                     \u001b[0mself\u001b[0m\u001b[0;34m[\u001b[0m\u001b[0mk\u001b[0m\u001b[0;34m]\u001b[0m \u001b[0;34m=\u001b[0m \u001b[0mcopy\u001b[0m\u001b[0;34m.\u001b[0m\u001b[0mcopy\u001b[0m\u001b[0;34m(\u001b[0m\u001b[0mv\u001b[0m\u001b[0;34m)\u001b[0m\u001b[0;34m\u001b[0m\u001b[0m\n\u001b[0m\u001b[1;32m    476\u001b[0m                 \u001b[0;32melif\u001b[0m \u001b[0mcopyvalues\u001b[0m \u001b[0;34m==\u001b[0m \u001b[0;34m'deep'\u001b[0m\u001b[0;34m:\u001b[0m\u001b[0;34m\u001b[0m\u001b[0m\n\u001b[1;32m    477\u001b[0m                     \u001b[0mself\u001b[0m\u001b[0;34m[\u001b[0m\u001b[0mk\u001b[0m\u001b[0;34m]\u001b[0m \u001b[0;34m=\u001b[0m \u001b[0mcopy\u001b[0m\u001b[0;34m.\u001b[0m\u001b[0mdeepcopy\u001b[0m\u001b[0;34m(\u001b[0m\u001b[0mv\u001b[0m\u001b[0;34m,\u001b[0m \u001b[0mmemo\u001b[0m\u001b[0;34m)\u001b[0m\u001b[0;34m\u001b[0m\u001b[0m\n",
      "\u001b[0;32m/Users/rystoli/anaconda/lib/python2.7/copy.pyc\u001b[0m in \u001b[0;36mcopy\u001b[0;34m(x)\u001b[0m\n\u001b[1;32m     78\u001b[0m     \u001b[0mcopier\u001b[0m \u001b[0;34m=\u001b[0m \u001b[0mgetattr\u001b[0m\u001b[0;34m(\u001b[0m\u001b[0mcls\u001b[0m\u001b[0;34m,\u001b[0m \u001b[0;34m\"__copy__\"\u001b[0m\u001b[0;34m,\u001b[0m \u001b[0mNone\u001b[0m\u001b[0;34m)\u001b[0m\u001b[0;34m\u001b[0m\u001b[0m\n\u001b[1;32m     79\u001b[0m     \u001b[0;32mif\u001b[0m \u001b[0mcopier\u001b[0m\u001b[0;34m:\u001b[0m\u001b[0;34m\u001b[0m\u001b[0m\n\u001b[0;32m---> 80\u001b[0;31m         \u001b[0;32mreturn\u001b[0m \u001b[0mcopier\u001b[0m\u001b[0;34m(\u001b[0m\u001b[0mx\u001b[0m\u001b[0;34m)\u001b[0m\u001b[0;34m\u001b[0m\u001b[0m\n\u001b[0m\u001b[1;32m     81\u001b[0m \u001b[0;34m\u001b[0m\u001b[0m\n\u001b[1;32m     82\u001b[0m     \u001b[0mreductor\u001b[0m \u001b[0;34m=\u001b[0m \u001b[0mdispatch_table\u001b[0m\u001b[0;34m.\u001b[0m\u001b[0mget\u001b[0m\u001b[0;34m(\u001b[0m\u001b[0mcls\u001b[0m\u001b[0;34m)\u001b[0m\u001b[0;34m\u001b[0m\u001b[0m\n",
      "\u001b[0;32m/Users/rystoli/anaconda/lib/python2.7/site-packages/mvpa2/base/collections.pyc\u001b[0m in \u001b[0;36m__copy__\u001b[0;34m(self)\u001b[0m\n\u001b[1;32m     74\u001b[0m         \u001b[0mcopied\u001b[0m \u001b[0;34m=\u001b[0m \u001b[0mself\u001b[0m\u001b[0;34m.\u001b[0m\u001b[0m__class__\u001b[0m\u001b[0;34m(\u001b[0m\u001b[0mname\u001b[0m\u001b[0;34m=\u001b[0m\u001b[0mself\u001b[0m\u001b[0;34m.\u001b[0m\u001b[0mname\u001b[0m\u001b[0;34m,\u001b[0m \u001b[0mdoc\u001b[0m\u001b[0;34m=\u001b[0m\u001b[0mself\u001b[0m\u001b[0;34m.\u001b[0m\u001b[0m__doc__\u001b[0m\u001b[0;34m)\u001b[0m\u001b[0;34m\u001b[0m\u001b[0m\n\u001b[1;32m     75\u001b[0m         \u001b[0;31m# just get a view of the old data!\u001b[0m\u001b[0;34m\u001b[0m\u001b[0;34m\u001b[0m\u001b[0m\n\u001b[0;32m---> 76\u001b[0;31m         \u001b[0mcopied\u001b[0m\u001b[0;34m.\u001b[0m\u001b[0mvalue\u001b[0m \u001b[0;34m=\u001b[0m \u001b[0mcopy\u001b[0m\u001b[0;34m.\u001b[0m\u001b[0mcopy\u001b[0m\u001b[0;34m(\u001b[0m\u001b[0mself\u001b[0m\u001b[0;34m.\u001b[0m\u001b[0mvalue\u001b[0m\u001b[0;34m)\u001b[0m\u001b[0;34m\u001b[0m\u001b[0m\n\u001b[0m\u001b[1;32m     77\u001b[0m         \u001b[0;32mreturn\u001b[0m \u001b[0mcopied\u001b[0m\u001b[0;34m\u001b[0m\u001b[0m\n\u001b[1;32m     78\u001b[0m \u001b[0;34m\u001b[0m\u001b[0m\n",
      "\u001b[0;32m/Users/rystoli/anaconda/lib/python2.7/copy.pyc\u001b[0m in \u001b[0;36mcopy\u001b[0;34m(x)\u001b[0m\n\u001b[1;32m     78\u001b[0m     \u001b[0mcopier\u001b[0m \u001b[0;34m=\u001b[0m \u001b[0mgetattr\u001b[0m\u001b[0;34m(\u001b[0m\u001b[0mcls\u001b[0m\u001b[0;34m,\u001b[0m \u001b[0;34m\"__copy__\"\u001b[0m\u001b[0;34m,\u001b[0m \u001b[0mNone\u001b[0m\u001b[0;34m)\u001b[0m\u001b[0;34m\u001b[0m\u001b[0m\n\u001b[1;32m     79\u001b[0m     \u001b[0;32mif\u001b[0m \u001b[0mcopier\u001b[0m\u001b[0;34m:\u001b[0m\u001b[0;34m\u001b[0m\u001b[0m\n\u001b[0;32m---> 80\u001b[0;31m         \u001b[0;32mreturn\u001b[0m \u001b[0mcopier\u001b[0m\u001b[0;34m(\u001b[0m\u001b[0mx\u001b[0m\u001b[0;34m)\u001b[0m\u001b[0;34m\u001b[0m\u001b[0m\n\u001b[0m\u001b[1;32m     81\u001b[0m \u001b[0;34m\u001b[0m\u001b[0m\n\u001b[1;32m     82\u001b[0m     \u001b[0mreductor\u001b[0m \u001b[0;34m=\u001b[0m \u001b[0mdispatch_table\u001b[0m\u001b[0;34m.\u001b[0m\u001b[0mget\u001b[0m\u001b[0;34m(\u001b[0m\u001b[0mcls\u001b[0m\u001b[0;34m)\u001b[0m\u001b[0;34m\u001b[0m\u001b[0m\n",
      "\u001b[0;32m/Users/rystoli/anaconda/lib/python2.7/site-packages/mvpa2/base/node.pyc\u001b[0m in \u001b[0;36m__copy__\u001b[0;34m(self)\u001b[0m\n\u001b[1;32m    331\u001b[0m     \u001b[0;32mdef\u001b[0m \u001b[0m__copy__\u001b[0m\u001b[0;34m(\u001b[0m\u001b[0mself\u001b[0m\u001b[0;34m)\u001b[0m\u001b[0;34m:\u001b[0m\u001b[0;34m\u001b[0m\u001b[0m\n\u001b[1;32m    332\u001b[0m         \u001b[0;31m# XXX how do we safely and exhaustively copy a node?\u001b[0m\u001b[0;34m\u001b[0m\u001b[0;34m\u001b[0m\u001b[0m\n\u001b[0;32m--> 333\u001b[0;31m         \u001b[0;32mreturn\u001b[0m \u001b[0mself\u001b[0m\u001b[0;34m.\u001b[0m\u001b[0m__class__\u001b[0m\u001b[0;34m(\u001b[0m\u001b[0;34m[\u001b[0m\u001b[0mcopy\u001b[0m\u001b[0;34m.\u001b[0m\u001b[0mcopy\u001b[0m\u001b[0;34m(\u001b[0m\u001b[0mn\u001b[0m\u001b[0;34m)\u001b[0m \u001b[0;32mfor\u001b[0m \u001b[0mn\u001b[0m \u001b[0;32min\u001b[0m \u001b[0mself\u001b[0m\u001b[0;34m]\u001b[0m\u001b[0;34m)\u001b[0m\u001b[0;34m\u001b[0m\u001b[0m\n\u001b[0m\u001b[1;32m    334\u001b[0m \u001b[0;34m\u001b[0m\u001b[0m\n\u001b[1;32m    335\u001b[0m \u001b[0;34m\u001b[0m\u001b[0m\n",
      "\u001b[0;32m/Users/rystoli/anaconda/lib/python2.7/copy.pyc\u001b[0m in \u001b[0;36mcopy\u001b[0;34m(x)\u001b[0m\n\u001b[1;32m     94\u001b[0m                 \u001b[0;32mraise\u001b[0m \u001b[0mError\u001b[0m\u001b[0;34m(\u001b[0m\u001b[0;34m\"un(shallow)copyable object of type %s\"\u001b[0m \u001b[0;34m%\u001b[0m \u001b[0mcls\u001b[0m\u001b[0;34m)\u001b[0m\u001b[0;34m\u001b[0m\u001b[0m\n\u001b[1;32m     95\u001b[0m \u001b[0;34m\u001b[0m\u001b[0m\n\u001b[0;32m---> 96\u001b[0;31m     \u001b[0;32mreturn\u001b[0m \u001b[0m_reconstruct\u001b[0m\u001b[0;34m(\u001b[0m\u001b[0mx\u001b[0m\u001b[0;34m,\u001b[0m \u001b[0mrv\u001b[0m\u001b[0;34m,\u001b[0m \u001b[0;36m0\u001b[0m\u001b[0;34m)\u001b[0m\u001b[0;34m\u001b[0m\u001b[0m\n\u001b[0m\u001b[1;32m     97\u001b[0m \u001b[0;34m\u001b[0m\u001b[0m\n\u001b[1;32m     98\u001b[0m \u001b[0;34m\u001b[0m\u001b[0m\n",
      "\u001b[0;32m/Users/rystoli/anaconda/lib/python2.7/copy.pyc\u001b[0m in \u001b[0;36m_reconstruct\u001b[0;34m(x, info, deep, memo)\u001b[0m\n\u001b[1;32m    314\u001b[0m     \u001b[0mcallable\u001b[0m\u001b[0;34m,\u001b[0m \u001b[0margs\u001b[0m \u001b[0;34m=\u001b[0m \u001b[0minfo\u001b[0m\u001b[0;34m[\u001b[0m\u001b[0;34m:\u001b[0m\u001b[0;36m2\u001b[0m\u001b[0;34m]\u001b[0m\u001b[0;34m\u001b[0m\u001b[0m\n\u001b[1;32m    315\u001b[0m     \u001b[0;32mif\u001b[0m \u001b[0mn\u001b[0m \u001b[0;34m>\u001b[0m \u001b[0;36m2\u001b[0m\u001b[0;34m:\u001b[0m\u001b[0;34m\u001b[0m\u001b[0m\n\u001b[0;32m--> 316\u001b[0;31m         \u001b[0mstate\u001b[0m \u001b[0;34m=\u001b[0m \u001b[0minfo\u001b[0m\u001b[0;34m[\u001b[0m\u001b[0;36m2\u001b[0m\u001b[0;34m]\u001b[0m\u001b[0;34m\u001b[0m\u001b[0m\n\u001b[0m\u001b[1;32m    317\u001b[0m     \u001b[0;32melse\u001b[0m\u001b[0;34m:\u001b[0m\u001b[0;34m\u001b[0m\u001b[0m\n\u001b[1;32m    318\u001b[0m         \u001b[0mstate\u001b[0m \u001b[0;34m=\u001b[0m \u001b[0mNone\u001b[0m\u001b[0;34m\u001b[0m\u001b[0m\n",
      "\u001b[0;31mKeyboardInterrupt\u001b[0m: "
     ]
    }
   ],
   "source": [
    "if __debug__: debug.active += [\"SLC\"] # print progress\n",
    "# take out invariant features\n",
    "ds = data['586'].copy()\n",
    "remapper = ds.copy()\n",
    "inv_mask = ds.samples.std(axis=0)>0\n",
    "sfs = StaticFeatureSelection(slicearg=inv_mask)\n",
    "sfs.train(remapper)\n",
    "ds = remove_invariant_features(ds)\n",
    "cv=CrossValidation(LinearCSVMC(), NFoldPartitioner(), \n",
    "                   enable_ca=['stats'], \n",
    "                   errorfx=lambda p, t: np.mean(p == t))\n",
    "\n",
    "sl = sphere_searchlight(cv, radius=3, postproc=mean_sample())\n",
    "slr = sl(ds)\n"
   ]
  },
  {
   "cell_type": "markdown",
   "metadata": {},
   "source": [
    "So I'm not waiting for that, but, from that, we go here:"
   ]
  },
  {
   "cell_type": "code",
   "execution_count": 154,
   "metadata": {},
   "outputs": [
    {
     "name": "stdout",
     "output_type": "stream",
     "text": [
      "<Dataset: 1x378@float64, <sa: cvfolds>, <fa: center_ids>, <a: mapper>>\n"
     ]
    }
   ],
   "source": [
    "res = sfs.reverse(slr).samples - (1.0/len(ds.UT)) # remove chance, and get back in its pre feature selection form\n",
    "print res # check it\n",
    "\n",
    "# save it, and look in afni\n",
    "nimg = map2nifti(data=ds,dataset=data['586'])\n",
    "nimg.to_filename('586_stereoclass.nii')"
   ]
  },
  {
   "cell_type": "markdown",
   "metadata": {
    "collapsed": true
   },
   "source": [
    "Well that does it! You can now look at the results in AFNI. You can also do group level tests, etc. However, we will save this for later when we move into PyMVPAw, which takes all of this code and wraps it up into single functions.\n",
    "\n",
    "Also, we will soon work to get python to display plots via nilearn:\n",
    "\n",
    "![image.png](http://nilearn.github.io/_images/sphx_glr_plot_neurovault_meta_analysis_thumb.png)"
   ]
  }
 ],
 "metadata": {
  "kernelspec": {
   "display_name": "Python 2",
   "language": "python",
   "name": "python2"
  },
  "language_info": {
   "codemirror_mode": {
    "name": "ipython",
    "version": 2
   },
   "file_extension": ".py",
   "mimetype": "text/x-python",
   "name": "python",
   "nbconvert_exporter": "python",
   "pygments_lexer": "ipython2",
   "version": "2.7.14"
  }
 },
 "nbformat": 4,
 "nbformat_minor": 2
}
